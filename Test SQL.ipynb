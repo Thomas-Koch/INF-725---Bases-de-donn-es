{
 "cells": [
  {
   "cell_type": "code",
   "execution_count": 11,
   "metadata": {},
   "outputs": [
    {
     "data": {
      "text/plain": [
       "'Connected: @None'"
      ]
     },
     "execution_count": 11,
     "metadata": {},
     "output_type": "execute_result"
    }
   ],
   "source": [
    "%load_ext sql\n",
    "%sql sqlite://"
   ]
  },
  {
   "cell_type": "code",
   "execution_count": 14,
   "metadata": {},
   "outputs": [
    {
     "name": "stdout",
     "output_type": "stream",
     "text": [
      " * sqlite://\n",
      "Done.\n",
      "Done.\n",
      "Done.\n",
      "Done.\n",
      "Done.\n",
      "Done.\n",
      "Done.\n",
      "Done.\n",
      "Done.\n",
      "Done.\n",
      "1 rows affected.\n",
      "1 rows affected.\n",
      "1 rows affected.\n",
      "1 rows affected.\n",
      "1 rows affected.\n",
      "1 rows affected.\n",
      "1 rows affected.\n",
      "1 rows affected.\n",
      "1 rows affected.\n",
      "1 rows affected.\n",
      "1 rows affected.\n",
      "1 rows affected.\n"
     ]
    },
    {
     "data": {
      "text/plain": [
       "[]"
      ]
     },
     "execution_count": 14,
     "metadata": {},
     "output_type": "execute_result"
    }
   ],
   "source": [
    "%%sql\n",
    "\n",
    "DROP TABLE IF EXISTS Match;\n",
    "CREATE TABLE Match(Match_ID, Date, Hour, Stadium_ID, Team_ID);\n",
    "DROP TABLE IF EXISTS Team;\n",
    "CREATE TABLE Team(Team_ID, Name, City);\n",
    "DROP TABLE IF EXISTS Stadium;\n",
    "CREATE TABLE Stadium(Stadium_ID, Name, Address, Capacity, Team_ID);\n",
    "DROP TABLE IF EXISTS Ticket;\n",
    "CREATE TABLE Ticket(Ticket_ID, Match_ID, Place_Number, Category, Price);\n",
    "DROP TABLE IF EXISTS Sell;\n",
    "CREATE TABLE Sell(Sell_ID, Sell_Date, Ticket_ID, Payment_Method);\n",
    "INSERT INTO Match VALUES('m1', '2019-09-01', '00:00', 's2', 't3');\n",
    "INSERT INTO Match VALUES('m2', '2019-09-02', '01:00', 's2', 't1');\n",
    "INSERT INTO Match VALUES('m3', '2019-09-03', '02:00', 's1', 't4');\n",
    "INSERT INTO Match VALUES('m4', '2019-09-04', '03:00', 's1', 't3');\n",
    "INSERT INTO Match VALUES('m5', '2019-09-05', '04:00', 's3', 't3');\n",
    "INSERT INTO Team VALUES('t1', 'PSG', 'Paris');\n",
    "INSERT INTO Team VALUES('t2', 'OL', 'Lyon');\n",
    "INSERT INTO Team VALUES('t3', 'OM', 'Lyon');\n",
    "INSERT INTO Team VALUES('t4', 'Barcelona F.C.', 'Barcelona');\n",
    "INSERT INTO Stadium VALUES('s1', 'Parc des Princes', 'Route du stade', 100, 't1');\n",
    "INSERT INTO Stadium VALUES('s2', 'Parc du Foot', 'Route du stade', 200, 't3');\n",
    "INSERT INTO Stadium VALUES('s3', 'Jardin des Princes', 'Route du stade', 300, 't2');"
   ]
  },
  {
   "cell_type": "code",
   "execution_count": 19,
   "metadata": {},
   "outputs": [
    {
     "name": "stdout",
     "output_type": "stream",
     "text": [
      " * sqlite://\n",
      "Done.\n"
     ]
    },
    {
     "data": {
      "text/html": [
       "<table>\n",
       "    <tr>\n",
       "        <th>Team_ID</th>\n",
       "        <th>Name</th>\n",
       "        <th>City</th>\n",
       "    </tr>\n",
       "    <tr>\n",
       "        <td>t2</td>\n",
       "        <td>OL</td>\n",
       "        <td>Lyon</td>\n",
       "    </tr>\n",
       "    <tr>\n",
       "        <td>t3</td>\n",
       "        <td>OM</td>\n",
       "        <td>Lyon</td>\n",
       "    </tr>\n",
       "    <tr>\n",
       "        <td>t4</td>\n",
       "        <td>Barcelona F.C.</td>\n",
       "        <td>Barcelona</td>\n",
       "    </tr>\n",
       "</table>"
      ],
      "text/plain": [
       "[('t2', 'OL', 'Lyon'),\n",
       " ('t3', 'OM', 'Lyon'),\n",
       " ('t4', 'Barcelona F.C.', 'Barcelona')]"
      ]
     },
     "execution_count": 19,
     "metadata": {},
     "output_type": "execute_result"
    }
   ],
   "source": [
    "%%sql\n",
    "SELECT Team_ID, Name, City FROM Team\n",
    "WHERE Name LIKE '%O%';"
   ]
  }
 ],
 "metadata": {
  "kernelspec": {
   "display_name": "Python 3",
   "language": "python",
   "name": "python3"
  },
  "language_info": {
   "codemirror_mode": {
    "name": "ipython",
    "version": 3
   },
   "file_extension": ".py",
   "mimetype": "text/x-python",
   "name": "python",
   "nbconvert_exporter": "python",
   "pygments_lexer": "ipython3",
   "version": "3.7.3"
  }
 },
 "nbformat": 4,
 "nbformat_minor": 2
}
